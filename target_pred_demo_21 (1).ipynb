{
 "cells": [
  {
   "cell_type": "markdown",
   "metadata": {},
   "source": [
    "# Ligand-based Target Prediction example\n",
    "## George Papadatos, ChEMBL Group"
   ]
  },
  {
   "cell_type": "markdown",
   "metadata": {},
   "source": [
    "This is a short demo on getting target predictions based on the current multi-category Naive Bayesian ChEMBL_21 models for a single molecule input. The predictions are ranked by the output classifier probability.\n",
    "\n",
    "This is the outline of the demo:\n",
    "\n",
    "* Download the models\n",
    "* Input a molecule to get target predictions for it based on the models\n",
    "* Assess the predictions"
   ]
  },
  {
   "cell_type": "markdown",
   "metadata": {},
   "source": [
    "### 1) Download the models (this is needed only once)"
   ]
  },
  {
   "cell_type": "code",
   "execution_count": 14,
   "metadata": {
    "collapsed": false
   },
   "outputs": [
    {
     "name": "stdout",
     "output_type": "stream",
     "text": [
      "/Users/georgep/testmodels_21\n"
     ]
    }
   ],
   "source": [
    "cd testmodels_21/"
   ]
  },
  {
   "cell_type": "code",
   "execution_count": 1,
   "metadata": {
    "collapsed": false
   },
   "outputs": [
    {
     "name": "stdout",
     "output_type": "stream",
     "text": [
      "--2016-03-29 15:16:53--  ftp://ftp.ebi.ac.uk/pub/databases/chembl/target_predictions/chembl_21_models.tar.gz\n",
      "           => 'chembl_21_models.tar.gz'\n",
      "Resolving ftp.ebi.ac.uk... 193.62.194.182\n",
      "Connecting to ftp.ebi.ac.uk|193.62.194.182|:21... connected.\n",
      "Logging in as anonymous ... Logged in!\n",
      "==> SYST ... done.    ==> PWD ... done.\n",
      "==> TYPE I ... done.  ==> CWD (1) /pub/databases/chembl/target_predictions ... done.\n",
      "==> SIZE chembl_21_models.tar.gz ... 64469262\n",
      "==> PASV ... done.    ==> RETR chembl_21_models.tar.gz ... done.\n",
      "Length: 64469262 (61M) (unauthoritative)\n",
      "\n",
      "100%[======================================>] 64,469,262  44.7MB/s   in 1.4s   \n",
      "\n",
      "2016-03-29 15:16:55 (44.7 MB/s) - 'chembl_21_models.tar.gz' saved [64469262]\n",
      "\n"
     ]
    }
   ],
   "source": [
    "!wget ftp://ftp.ebi.ac.uk/pub/databases/chembl/target_predictions/chembl_21_models.tar.gz"
   ]
  },
  {
   "cell_type": "code",
   "execution_count": 2,
   "metadata": {
    "collapsed": true
   },
   "outputs": [],
   "source": [
    "!tar -zxf chembl_21_models.tar.gz"
   ]
  },
  {
   "cell_type": "markdown",
   "metadata": {},
   "source": [
    "The two models (1uM and 10uM, respectively) are now under ./models_21\n",
    "\n",
    "### 2) Read the models and get predictions\n",
    "Import the necessary modules:"
   ]
  },
  {
   "cell_type": "code",
   "execution_count": 15,
   "metadata": {
    "collapsed": false
   },
   "outputs": [],
   "source": [
    "from rdkit.Chem import AllChem as Chem\n",
    "from rdkit.Chem.Draw import IPythonConsole\n",
    "from rdkit.Chem import PandasTools\n",
    "from rdkit.Chem import Draw\n",
    "\n",
    "from rdkit import DataStructs\n",
    "\n",
    "import pandas as pd\n",
    "from pandas import concat\n",
    "\n",
    "from collections import OrderedDict\n",
    "import requests\n",
    "import numpy"
   ]
  },
  {
   "cell_type": "code",
   "execution_count": 16,
   "metadata": {
    "collapsed": true
   },
   "outputs": [],
   "source": [
    "from sklearn.externals import joblib"
   ]
  },
  {
   "cell_type": "code",
   "execution_count": 17,
   "metadata": {
    "collapsed": false
   },
   "outputs": [
    {
     "name": "stdout",
     "output_type": "stream",
     "text": [
      "2015.09.2\n"
     ]
    }
   ],
   "source": [
    "# Check the RDKit version\n",
    "from rdkit import rdBase\n",
    "print rdBase.rdkitVersion"
   ]
  },
  {
   "cell_type": "code",
   "execution_count": 18,
   "metadata": {
    "collapsed": true
   },
   "outputs": [],
   "source": [
    "%matplotlib inline"
   ]
  },
  {
   "cell_type": "code",
   "execution_count": 19,
   "metadata": {
    "collapsed": false
   },
   "outputs": [],
   "source": [
    "import matplotlib as mpl\n",
    "mpl.rcParams['figure.figsize'] = 10,10"
   ]
  },
  {
   "cell_type": "code",
   "execution_count": 20,
   "metadata": {
    "collapsed": false
   },
   "outputs": [],
   "source": [
    "morgan_nb = joblib.load('./models_21/10uM/mNB_10uM_all.pkl')"
   ]
  },
  {
   "cell_type": "code",
   "execution_count": 21,
   "metadata": {
    "collapsed": false
   },
   "outputs": [],
   "source": [
    "classes = list(morgan_nb.targets)"
   ]
  },
  {
   "cell_type": "code",
   "execution_count": 22,
   "metadata": {
    "collapsed": false
   },
   "outputs": [
    {
     "data": {
      "text/plain": [
       "1429"
      ]
     },
     "execution_count": 22,
     "metadata": {},
     "output_type": "execute_result"
    }
   ],
   "source": [
    "len(classes)"
   ]
  },
  {
   "cell_type": "markdown",
   "metadata": {},
   "source": [
    "That means that this model contains trained data for 1429 different targets (categories)."
   ]
  },
  {
   "cell_type": "markdown",
   "metadata": {},
   "source": [
    "### 3) Read a compound and get predictions"
   ]
  },
  {
   "cell_type": "markdown",
   "metadata": {},
   "source": [
    "Let's use a molecule (GS-5759) found in this [publication](http://www.ncbi.nlm.nih.gov/pubmed/24513870). It is a novel compound (not in ChEMBL) reported to have dual activity against PDE4 and beta-2 adrenergic receptor."
   ]
  },
  {
   "cell_type": "code",
   "execution_count": 43,
   "metadata": {
    "collapsed": true
   },
   "outputs": [],
   "source": [
    "smiles = 'O[C@@H](CNCCCC#CC1=CC=C(C=C1)NC(=O)C=1C=C(C=CC1)S(=O)(=O)C=1C=C2C(=C(C=NC2=C(C1)C)C(=O)N)NC1=CC(=CC=C1)OC)C1=C2C=CC(NC2=C(C=C1)O)=O'"
   ]
  },
  {
   "cell_type": "code",
   "execution_count": 45,
   "metadata": {
    "collapsed": true
   },
   "outputs": [],
   "source": [
    "mol = Chem.MolFromSmiles(smiles)"
   ]
  },
  {
   "cell_type": "code",
   "execution_count": 46,
   "metadata": {
    "collapsed": false,
    "scrolled": true
   },
   "outputs": [
    {
     "data": {
      "image/png": "[encoded data removed]",
      "text/plain": [
       "<rdkit.Chem.rdchem.Mol at 0x107d4a2f0>"
      ]
     },
     "execution_count": 46,
     "metadata": {},
     "output_type": "execute_result"
    }
   ],
   "source": [
    "mol"
   ]
  },
  {
   "cell_type": "code",
   "execution_count": 47,
   "metadata": {
    "collapsed": false
   },
   "outputs": [],
   "source": [
    "info={}\n",
    "fp = Chem.GetMorganFingerprintAsBitVect(mol,2,nBits=2048, bitInfo=info)\n",
    "res = numpy.zeros(len(fp),numpy.int32)\n",
    "DataStructs.ConvertToNumpyArray(fp,res)  "
   ]
  },
  {
   "cell_type": "code",
   "execution_count": 48,
   "metadata": {
    "collapsed": true
   },
   "outputs": [],
   "source": [
    "probas = list(morgan_nb.predict_proba(res.reshape(1,-1))[0])"
   ]
  },
  {
   "cell_type": "code",
   "execution_count": 49,
   "metadata": {
    "collapsed": false,
    "scrolled": false
   },
   "outputs": [],
   "source": [
    "predictions = pd.DataFrame(zip(classes, probas), columns=['id','proba'])"
   ]
  },
  {
   "cell_type": "code",
   "execution_count": 68,
   "metadata": {
    "collapsed": false,
    "scrolled": false
   },
   "outputs": [
    {
     "data": {
      "text/html": [
       "<div>\n",
       "<table border=\"1\" class=\"dataframe\">\n",
       "  <thead>\n",
       "    <tr style=\"text-align: right;\">\n",
       "      <th></th>\n",
       "      <th>id</th>\n",
       "      <th>proba</th>\n",
       "    </tr>\n",
       "  </thead>\n",
       "  <tbody>\n",
       "    <tr>\n",
       "      <th>0</th>\n",
       "      <td>CHEMBL1075051</td>\n",
       "      <td>7.053404e-33</td>\n",
       "    </tr>\n",
       "    <tr>\n",
       "      <th>1</th>\n",
       "      <td>CHEMBL1075104</td>\n",
       "      <td>4.911063e-17</td>\n",
       "    </tr>\n",
       "    <tr>\n",
       "      <th>2</th>\n",
       "      <td>CHEMBL1075108</td>\n",
       "      <td>4.848016e-38</td>\n",
       "    </tr>\n",
       "    <tr>\n",
       "      <th>3</th>\n",
       "      <td>CHEMBL1075111</td>\n",
       "      <td>2.056597e-40</td>\n",
       "    </tr>\n",
       "    <tr>\n",
       "      <th>4</th>\n",
       "      <td>CHEMBL1075115</td>\n",
       "      <td>7.705190e-10</td>\n",
       "    </tr>\n",
       "    <tr>\n",
       "      <th>5</th>\n",
       "      <td>CHEMBL1075138</td>\n",
       "      <td>6.682079e-07</td>\n",
       "    </tr>\n",
       "    <tr>\n",
       "      <th>6</th>\n",
       "      <td>CHEMBL1075140</td>\n",
       "      <td>5.666627e-41</td>\n",
       "    </tr>\n",
       "    <tr>\n",
       "      <th>7</th>\n",
       "      <td>CHEMBL1075145</td>\n",
       "      <td>2.389783e-36</td>\n",
       "    </tr>\n",
       "    <tr>\n",
       "      <th>8</th>\n",
       "      <td>CHEMBL1075152</td>\n",
       "      <td>4.561929e-42</td>\n",
       "    </tr>\n",
       "    <tr>\n",
       "      <th>9</th>\n",
       "      <td>CHEMBL1075167</td>\n",
       "      <td>8.753342e-09</td>\n",
       "    </tr>\n",
       "    <tr>\n",
       "      <th>10</th>\n",
       "      <td>CHEMBL1075189</td>\n",
       "      <td>4.621086e-09</td>\n",
       "    </tr>\n",
       "    <tr>\n",
       "      <th>11</th>\n",
       "      <td>CHEMBL1075228</td>\n",
       "      <td>2.019287e-31</td>\n",
       "    </tr>\n",
       "    <tr>\n",
       "      <th>12</th>\n",
       "      <td>CHEMBL1075269</td>\n",
       "      <td>2.000263e-33</td>\n",
       "    </tr>\n",
       "    <tr>\n",
       "      <th>13</th>\n",
       "      <td>CHEMBL1075280</td>\n",
       "      <td>8.740582e-25</td>\n",
       "    </tr>\n",
       "    <tr>\n",
       "      <th>14</th>\n",
       "      <td>CHEMBL1075282</td>\n",
       "      <td>1.461456e-29</td>\n",
       "    </tr>\n",
       "    <tr>\n",
       "      <th>15</th>\n",
       "      <td>CHEMBL1075284</td>\n",
       "      <td>1.198526e-23</td>\n",
       "    </tr>\n",
       "    <tr>\n",
       "      <th>16</th>\n",
       "      <td>CHEMBL1075294</td>\n",
       "      <td>8.631092e-25</td>\n",
       "    </tr>\n",
       "    <tr>\n",
       "      <th>17</th>\n",
       "      <td>CHEMBL1075319</td>\n",
       "      <td>2.336758e-29</td>\n",
       "    </tr>\n",
       "    <tr>\n",
       "      <th>18</th>\n",
       "      <td>CHEMBL1075322</td>\n",
       "      <td>1.376716e-13</td>\n",
       "    </tr>\n",
       "    <tr>\n",
       "      <th>19</th>\n",
       "      <td>CHEMBL1075323</td>\n",
       "      <td>2.354106e-28</td>\n",
       "    </tr>\n",
       "  </tbody>\n",
       "</table>\n",
       "</div>"
      ],
      "text/plain": [
       "               id         proba\n",
       "0   CHEMBL1075051  7.053404e-33\n",
       "1   CHEMBL1075104  4.911063e-17\n",
       "2   CHEMBL1075108  4.848016e-38\n",
       "3   CHEMBL1075111  2.056597e-40\n",
       "4   CHEMBL1075115  7.705190e-10\n",
       "5   CHEMBL1075138  6.682079e-07\n",
       "6   CHEMBL1075140  5.666627e-41\n",
       "7   CHEMBL1075145  2.389783e-36\n",
       "8   CHEMBL1075152  4.561929e-42\n",
       "9   CHEMBL1075167  8.753342e-09\n",
       "10  CHEMBL1075189  4.621086e-09\n",
       "11  CHEMBL1075228  2.019287e-31\n",
       "12  CHEMBL1075269  2.000263e-33\n",
       "13  CHEMBL1075280  8.740582e-25\n",
       "14  CHEMBL1075282  1.461456e-29\n",
       "15  CHEMBL1075284  1.198526e-23\n",
       "16  CHEMBL1075294  8.631092e-25\n",
       "17  CHEMBL1075319  2.336758e-29\n",
       "18  CHEMBL1075322  1.376716e-13\n",
       "19  CHEMBL1075323  2.354106e-28"
      ]
     },
     "execution_count": 68,
     "metadata": {},
     "output_type": "execute_result"
    }
   ],
   "source": [
    "predictions.head(20)"
   ]
  },
  {
   "cell_type": "markdown",
   "metadata": {},
   "source": [
    "The above is a pandas data frame with all the predictions across the 1429 targets."
   ]
  },
  {
   "cell_type": "code",
   "execution_count": 51,
   "metadata": {
    "collapsed": false
   },
   "outputs": [
    {
     "data": {
      "text/plain": [
       "<matplotlib.axes._subplots.AxesSubplot at 0x10c77b0d0>"
      ]
     },
     "execution_count": 51,
     "metadata": {},
     "output_type": "execute_result"
    },
    {
     "data": {
      "image/png": "[encoded data removed]",
      "text/plain": [
       "<matplotlib.figure.Figure at 0x10d790910>"
      ]
     },
     "metadata": {},
     "output_type": "display_data"
    }
   ],
   "source": [
    "predictions['proba'].hist()"
   ]
  },
  {
   "cell_type": "markdown",
   "metadata": {},
   "source": [
    "As expected, most of the targets will have very low probability for this particular compound. But what about the targets with the highest probability scores?"
   ]
  },
  {
   "cell_type": "markdown",
   "metadata": {
    "collapsed": false
   },
   "source": [
    "top_preds = predictions.sort_values(by='proba', ascending=False).head(10)"
   ]
  },
  {
   "cell_type": "code",
   "execution_count": 53,
   "metadata": {
    "collapsed": false
   },
   "outputs": [
    {
     "data": {
      "text/html": [
       "<div>\n",
       "<table border=\"1\" class=\"dataframe\">\n",
       "  <thead>\n",
       "    <tr style=\"text-align: right;\">\n",
       "      <th></th>\n",
       "      <th>id</th>\n",
       "      <th>proba</th>\n",
       "    </tr>\n",
       "  </thead>\n",
       "  <tbody>\n",
       "    <tr>\n",
       "      <th>1283</th>\n",
       "      <td>CHEMBL5414</td>\n",
       "      <td>0.999912</td>\n",
       "    </tr>\n",
       "    <tr>\n",
       "      <th>243</th>\n",
       "      <td>CHEMBL210</td>\n",
       "      <td>0.994003</td>\n",
       "    </tr>\n",
       "    <tr>\n",
       "      <th>652</th>\n",
       "      <td>CHEMBL3252</td>\n",
       "      <td>0.836839</td>\n",
       "    </tr>\n",
       "    <tr>\n",
       "      <th>249</th>\n",
       "      <td>CHEMBL213</td>\n",
       "      <td>0.747240</td>\n",
       "    </tr>\n",
       "    <tr>\n",
       "      <th>477</th>\n",
       "      <td>CHEMBL275</td>\n",
       "      <td>0.660680</td>\n",
       "    </tr>\n",
       "    <tr>\n",
       "      <th>1123</th>\n",
       "      <td>CHEMBL4697</td>\n",
       "      <td>0.000231</td>\n",
       "    </tr>\n",
       "    <tr>\n",
       "      <th>851</th>\n",
       "      <td>CHEMBL3864</td>\n",
       "      <td>0.000114</td>\n",
       "    </tr>\n",
       "    <tr>\n",
       "      <th>707</th>\n",
       "      <td>CHEMBL3397</td>\n",
       "      <td>0.000102</td>\n",
       "    </tr>\n",
       "    <tr>\n",
       "      <th>401</th>\n",
       "      <td>CHEMBL2535</td>\n",
       "      <td>0.000058</td>\n",
       "    </tr>\n",
       "    <tr>\n",
       "      <th>710</th>\n",
       "      <td>CHEMBL340</td>\n",
       "      <td>0.000031</td>\n",
       "    </tr>\n",
       "  </tbody>\n",
       "</table>\n",
       "</div>"
      ],
      "text/plain": [
       "              id     proba\n",
       "1283  CHEMBL5414  0.999912\n",
       "243    CHEMBL210  0.994003\n",
       "652   CHEMBL3252  0.836839\n",
       "249    CHEMBL213  0.747240\n",
       "477    CHEMBL275  0.660680\n",
       "1123  CHEMBL4697  0.000231\n",
       "851   CHEMBL3864  0.000114\n",
       "707   CHEMBL3397  0.000102\n",
       "401   CHEMBL2535  0.000058\n",
       "710    CHEMBL340  0.000031"
      ]
     },
     "execution_count": 53,
     "metadata": {},
     "output_type": "execute_result"
    }
   ],
   "source": [
    "top_preds"
   ]
  },
  {
   "cell_type": "markdown",
   "metadata": {},
   "source": [
    "Finally, let's use the ChEMBL WS to get some more info on the most likely predicted targets."
   ]
  },
  {
   "cell_type": "code",
   "execution_count": 54,
   "metadata": {
    "collapsed": true
   },
   "outputs": [],
   "source": [
    "def fetch_WS(trgt):\n",
    "    re = requests.get('https://www.ebi.ac.uk/chembl/api/data/target/{0}.json'.format(trgt))\n",
    "    return (trgt, re.json()['pref_name'], re.json()['organism'])"
   ]
  },
  {
   "cell_type": "code",
   "execution_count": 55,
   "metadata": {
    "collapsed": false
   },
   "outputs": [],
   "source": [
    "plist = []\n",
    "for i,e in enumerate(top_preds['id']):\n",
    "    plist.append(fetch_WS(e))"
   ]
  },
  {
   "cell_type": "code",
   "execution_count": 56,
   "metadata": {
    "collapsed": false
   },
   "outputs": [],
   "source": [
    "target_info = pd.DataFrame(plist, columns =['id','name', 'organism'])"
   ]
  },
  {
   "cell_type": "code",
   "execution_count": 57,
   "metadata": {
    "collapsed": false
   },
   "outputs": [
    {
     "data": {
      "text/html": [
       "<div>\n",
       "<table border=\"1\" class=\"dataframe\">\n",
       "  <thead>\n",
       "    <tr style=\"text-align: right;\">\n",
       "      <th></th>\n",
       "      <th>id</th>\n",
       "      <th>name</th>\n",
       "      <th>organism</th>\n",
       "    </tr>\n",
       "  </thead>\n",
       "  <tbody>\n",
       "    <tr>\n",
       "      <th>0</th>\n",
       "      <td>CHEMBL5414</td>\n",
       "      <td>Beta-2 adrenergic receptor</td>\n",
       "      <td>Cavia porcellus</td>\n",
       "    </tr>\n",
       "    <tr>\n",
       "      <th>1</th>\n",
       "      <td>CHEMBL210</td>\n",
       "      <td>Beta-2 adrenergic receptor</td>\n",
       "      <td>Homo sapiens</td>\n",
       "    </tr>\n",
       "    <tr>\n",
       "      <th>2</th>\n",
       "      <td>CHEMBL3252</td>\n",
       "      <td>Beta-1 adrenergic receptor</td>\n",
       "      <td>Rattus norvegicus</td>\n",
       "    </tr>\n",
       "    <tr>\n",
       "      <th>3</th>\n",
       "      <td>CHEMBL213</td>\n",
       "      <td>Beta-1 adrenergic receptor</td>\n",
       "      <td>Homo sapiens</td>\n",
       "    </tr>\n",
       "    <tr>\n",
       "      <th>4</th>\n",
       "      <td>CHEMBL275</td>\n",
       "      <td>Phosphodiesterase 4B</td>\n",
       "      <td>Homo sapiens</td>\n",
       "    </tr>\n",
       "    <tr>\n",
       "      <th>5</th>\n",
       "      <td>CHEMBL4697</td>\n",
       "      <td>Hexose transporter 1</td>\n",
       "      <td>Plasmodium falciparum</td>\n",
       "    </tr>\n",
       "    <tr>\n",
       "      <th>6</th>\n",
       "      <td>CHEMBL3864</td>\n",
       "      <td>Protein-tyrosine phosphatase 2C</td>\n",
       "      <td>Homo sapiens</td>\n",
       "    </tr>\n",
       "    <tr>\n",
       "      <th>7</th>\n",
       "      <td>CHEMBL3397</td>\n",
       "      <td>Cytochrome P450 2C9</td>\n",
       "      <td>Homo sapiens</td>\n",
       "    </tr>\n",
       "    <tr>\n",
       "      <th>8</th>\n",
       "      <td>CHEMBL2535</td>\n",
       "      <td>Glucose transporter</td>\n",
       "      <td>Homo sapiens</td>\n",
       "    </tr>\n",
       "    <tr>\n",
       "      <th>9</th>\n",
       "      <td>CHEMBL340</td>\n",
       "      <td>Cytochrome P450 3A4</td>\n",
       "      <td>Homo sapiens</td>\n",
       "    </tr>\n",
       "  </tbody>\n",
       "</table>\n",
       "</div>"
      ],
      "text/plain": [
       "           id                             name               organism\n",
       "0  CHEMBL5414       Beta-2 adrenergic receptor        Cavia porcellus\n",
       "1   CHEMBL210       Beta-2 adrenergic receptor           Homo sapiens\n",
       "2  CHEMBL3252       Beta-1 adrenergic receptor      Rattus norvegicus\n",
       "3   CHEMBL213       Beta-1 adrenergic receptor           Homo sapiens\n",
       "4   CHEMBL275             Phosphodiesterase 4B           Homo sapiens\n",
       "5  CHEMBL4697             Hexose transporter 1  Plasmodium falciparum\n",
       "6  CHEMBL3864  Protein-tyrosine phosphatase 2C           Homo sapiens\n",
       "7  CHEMBL3397              Cytochrome P450 2C9           Homo sapiens\n",
       "8  CHEMBL2535              Glucose transporter           Homo sapiens\n",
       "9   CHEMBL340              Cytochrome P450 3A4           Homo sapiens"
      ]
     },
     "execution_count": 57,
     "metadata": {},
     "output_type": "execute_result"
    }
   ],
   "source": [
    "target_info"
   ]
  },
  {
   "cell_type": "code",
   "execution_count": 58,
   "metadata": {
    "collapsed": false
   },
   "outputs": [
    {
     "data": {
      "text/html": [
       "<div>\n",
       "<table border=\"1\" class=\"dataframe\">\n",
       "  <thead>\n",
       "    <tr style=\"text-align: right;\">\n",
       "      <th></th>\n",
       "      <th>id</th>\n",
       "      <th>proba</th>\n",
       "      <th>name</th>\n",
       "      <th>organism</th>\n",
       "    </tr>\n",
       "  </thead>\n",
       "  <tbody>\n",
       "    <tr>\n",
       "      <th>0</th>\n",
       "      <td>CHEMBL5414</td>\n",
       "      <td>0.999912</td>\n",
       "      <td>Beta-2 adrenergic receptor</td>\n",
       "      <td>Cavia porcellus</td>\n",
       "    </tr>\n",
       "    <tr>\n",
       "      <th>1</th>\n",
       "      <td>CHEMBL210</td>\n",
       "      <td>0.994003</td>\n",
       "      <td>Beta-2 adrenergic receptor</td>\n",
       "      <td>Homo sapiens</td>\n",
       "    </tr>\n",
       "    <tr>\n",
       "      <th>2</th>\n",
       "      <td>CHEMBL3252</td>\n",
       "      <td>0.836839</td>\n",
       "      <td>Beta-1 adrenergic receptor</td>\n",
       "      <td>Rattus norvegicus</td>\n",
       "    </tr>\n",
       "    <tr>\n",
       "      <th>3</th>\n",
       "      <td>CHEMBL213</td>\n",
       "      <td>0.747240</td>\n",
       "      <td>Beta-1 adrenergic receptor</td>\n",
       "      <td>Homo sapiens</td>\n",
       "    </tr>\n",
       "    <tr>\n",
       "      <th>4</th>\n",
       "      <td>CHEMBL275</td>\n",
       "      <td>0.660680</td>\n",
       "      <td>Phosphodiesterase 4B</td>\n",
       "      <td>Homo sapiens</td>\n",
       "    </tr>\n",
       "    <tr>\n",
       "      <th>5</th>\n",
       "      <td>CHEMBL4697</td>\n",
       "      <td>0.000231</td>\n",
       "      <td>Hexose transporter 1</td>\n",
       "      <td>Plasmodium falciparum</td>\n",
       "    </tr>\n",
       "    <tr>\n",
       "      <th>6</th>\n",
       "      <td>CHEMBL3864</td>\n",
       "      <td>0.000114</td>\n",
       "      <td>Protein-tyrosine phosphatase 2C</td>\n",
       "      <td>Homo sapiens</td>\n",
       "    </tr>\n",
       "    <tr>\n",
       "      <th>7</th>\n",
       "      <td>CHEMBL3397</td>\n",
       "      <td>0.000102</td>\n",
       "      <td>Cytochrome P450 2C9</td>\n",
       "      <td>Homo sapiens</td>\n",
       "    </tr>\n",
       "    <tr>\n",
       "      <th>8</th>\n",
       "      <td>CHEMBL2535</td>\n",
       "      <td>0.000058</td>\n",
       "      <td>Glucose transporter</td>\n",
       "      <td>Homo sapiens</td>\n",
       "    </tr>\n",
       "    <tr>\n",
       "      <th>9</th>\n",
       "      <td>CHEMBL340</td>\n",
       "      <td>0.000031</td>\n",
       "      <td>Cytochrome P450 3A4</td>\n",
       "      <td>Homo sapiens</td>\n",
       "    </tr>\n",
       "  </tbody>\n",
       "</table>\n",
       "</div>"
      ],
      "text/plain": [
       "           id     proba                             name               organism\n",
       "0  CHEMBL5414  0.999912       Beta-2 adrenergic receptor        Cavia porcellus\n",
       "1   CHEMBL210  0.994003       Beta-2 adrenergic receptor           Homo sapiens\n",
       "2  CHEMBL3252  0.836839       Beta-1 adrenergic receptor      Rattus norvegicus\n",
       "3   CHEMBL213  0.747240       Beta-1 adrenergic receptor           Homo sapiens\n",
       "4   CHEMBL275  0.660680             Phosphodiesterase 4B           Homo sapiens\n",
       "5  CHEMBL4697  0.000231             Hexose transporter 1  Plasmodium falciparum\n",
       "6  CHEMBL3864  0.000114  Protein-tyrosine phosphatase 2C           Homo sapiens\n",
       "7  CHEMBL3397  0.000102              Cytochrome P450 2C9           Homo sapiens\n",
       "8  CHEMBL2535  0.000058              Glucose transporter           Homo sapiens\n",
       "9   CHEMBL340  0.000031              Cytochrome P450 3A4           Homo sapiens"
      ]
     },
     "execution_count": 58,
     "metadata": {},
     "output_type": "execute_result"
    }
   ],
   "source": [
    "pd.merge(top_preds, target_info)"
   ]
  }
 ],
 "metadata": {
  "kernelspec": {
   "display_name": "Python 2",
   "language": "python",
   "name": "python2"
  },
  "language_info": {
   "codemirror_mode": {
    "name": "ipython",
    "version": 2
   },
   "file_extension": ".py",
   "mimetype": "text/x-python",
   "name": "python",
   "nbconvert_exporter": "python",
   "pygments_lexer": "ipython2",
   "version": "2.7.11"
  }
 },
 "nbformat": 4,
 "nbformat_minor": 0
}
